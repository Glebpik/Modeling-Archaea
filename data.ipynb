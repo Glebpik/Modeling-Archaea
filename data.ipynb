{
 "cells": [
  {
   "cell_type": "code",
   "execution_count": 27,
   "metadata": {},
   "outputs": [
    {
     "name": "stderr",
     "output_type": "stream",
     "text": [
      "MovieWriter ffmpeg unavailable; using Pillow instead.\n"
     ]
    },
    {
     "data": {
      "image/png": "[encoded data removed]",
      "text/plain": [
       "<Figure size 800x800 with 1 Axes>"
      ]
     },
     "metadata": {},
     "output_type": "display_data"
    }
   ],
   "source": [
    "import numpy as np\n",
    "import matplotlib.pyplot as plt\n",
    "import matplotlib.animation as animation\n",
    "\n",
    "# Размер поля\n",
    "FIELD_SIZE = 50\n",
    "\n",
    "# Начальное количество бактерий\n",
    "INITIAL_BACTERIA = 10\n",
    "\n",
    "# Вероятность деления бактерий\n",
    "DIVISION_PROBABILITY = 0.1\n",
    "\n",
    "# Вероятность гибели бактерий\n",
    "DEATH_PROBABILITY = 0.01\n",
    "\n",
    "# Вероятность загрязнения среды\n",
    "POLLUTION_PROBABILITY = 0.01\n",
    "\n",
    "# Создаем поле\n",
    "field = np.zeros((FIELD_SIZE, FIELD_SIZE), dtype=int)\n",
    "\n",
    "# Размещаем начальное количество бактерий\n",
    "bacteria = np.random.randint(0, FIELD_SIZE, size=(INITIAL_BACTERIA, 2))\n",
    "for x, y in bacteria:\n",
    "    field[x, y] = 1\n",
    "\n",
    "# Функция для обновления поля\n",
    "def update_field(frame):\n",
    "    global field\n",
    "\n",
    "    # Создаем новое поле\n",
    "    new_field = np.zeros_like(field)\n",
    "\n",
    "    # Обрабатываем каждую ячейку\n",
    "    for i in range(FIELD_SIZE):\n",
    "        for j in range(FIELD_SIZE):\n",
    "            # Проверяем, есть ли бактерия в ячейке\n",
    "            if field[i, j] == 1:\n",
    "                # Вычисляем количество соседних ячеек с бактериями\n",
    "                neighbors = sum([\n",
    "                    field[max(0, i-1):min(FIELD_SIZE, i+2), max(0, j-1):min(FIELD_SIZE, j+2)].sum()\n",
    "                ]) - field[i, j]\n",
    "\n",
    "                # Деление бактерий\n",
    "                if neighbors > 0 and np.random.rand() < DIVISION_PROBABILITY:\n",
    "                    new_field[i, j] = 1\n",
    "                    new_field[max(0, i-1):min(FIELD_SIZE, i+2), max(0, j-1):min(FIELD_SIZE, j+2)] += 1\n",
    "                # Гибель бактерий\n",
    "                elif np.random.rand() < DEATH_PROBABILITY:\n",
    "                    continue\n",
    "                else:\n",
    "                    new_field[i, j] = 1\n",
    "\n",
    "    # Обновляем поле\n",
    "    field = new_field\n",
    "\n",
    "    # Загрязнение среды\n",
    "    if np.random.rand() < POLLUTION_PROBABILITY:\n",
    "        field = np.zeros_like(field)\n",
    "    return [plt.imshow(field)]\n",
    "\n",
    "# Создаем анимацию\n",
    "fig, ax = plt.subplots(figsize=(8, 8))\n",
    "ax.set_xticks([])\n",
    "ax.set_yticks([])\n",
    "ani = animation.FuncAnimation(fig, update_field, frames=10, interval=100, blit=True)\n",
    "\n",
    "# Сохраняем анимацию в файл\n",
    "ani.save('bacteria_growth.gif')\n",
    "\n",
    "plt.show()"
   ]
  }
 ],
 "metadata": {
  "kernelspec": {
   "display_name": "Python 3",
   "language": "python",
   "name": "python3"
  },
  "language_info": {
   "codemirror_mode": {
    "name": "ipython",
    "version": 3
   },
   "file_extension": ".py",
   "mimetype": "text/x-python",
   "name": "python",
   "nbconvert_exporter": "python",
   "pygments_lexer": "ipython3",
   "version": "3.11.5"
  }
 },
 "nbformat": 4,
 "nbformat_minor": 2
}
